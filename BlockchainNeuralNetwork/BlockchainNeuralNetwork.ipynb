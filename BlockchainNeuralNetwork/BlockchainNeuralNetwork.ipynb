{
 "cells": [
  {
   "cell_type": "code",
   "execution_count": 1,
   "outputs": [],
   "source": [
    "import reload_recursive"
   ],
   "metadata": {
    "collapsed": false
   }
  },
  {
   "cell_type": "code",
   "execution_count": 4,
   "outputs": [
    {
     "data": {
      "text/plain": "(tensor([[-0.2999, -0.2000],\n         [-0.2996, -0.1586],\n         [-0.2991, -0.1268],\n         [-0.2984, -0.1000],\n         [-0.2975, -0.0764],\n         [-0.2964, -0.0551],\n         [-0.2951, -0.0354],\n         [-0.2936, -0.0172],\n         [-0.2919,  0.0000],\n         [-0.2900,  0.0162],\n         [-0.2879,  0.0317],\n         [-0.2856,  0.0464],\n         [-0.2831,  0.0606],\n         [-0.2804,  0.0742],\n         [-0.2775,  0.0873],\n         [-0.2744,  0.1000],\n         [-0.2711,  0.1123],\n         [-0.2676,  0.1243],\n         [-0.2639,  0.1359],\n         [-0.2600,  0.1472],\n         [-0.2559,  0.1583],\n         [-0.2516,  0.1690],\n         [-0.2471,  0.1796],\n         [-0.2424,  0.1899],\n         [-0.2375,  0.2000],\n         [-0.2324,  0.2099],\n         [-0.2271,  0.2196],\n         [-0.2216,  0.2292],\n         [-0.2159,  0.2385],\n         [-0.2100,  0.2477],\n         [-0.2039,  0.2568],\n         [-0.1976,  0.2657],\n         [-0.1911,  0.2745],\n         [-0.1844,  0.2831],\n         [-0.1775,  0.2916],\n         [-0.1704,  0.3000],\n         [-0.1631,  0.3083],\n         [-0.1556,  0.3164],\n         [-0.1479,  0.3245],\n         [-0.1400,  0.3325],\n         [-0.1319,  0.3403],\n         [-0.1236,  0.3481],\n         [-0.1151,  0.3557],\n         [-0.1064,  0.3633],\n         [-0.0975,  0.3708],\n         [-0.0884,  0.3782],\n         [-0.0791,  0.3856],\n         [-0.0696,  0.3928],\n         [-0.0599,  0.4000],\n         [-0.0500,  0.4071],\n         [-0.0399,  0.4141],\n         [-0.0296,  0.4211],\n         [-0.0191,  0.4280],\n         [-0.0084,  0.4348],\n         [ 0.0025,  0.4416],\n         [ 0.0136,  0.4483],\n         [ 0.0249,  0.4550],\n         [ 0.0364,  0.4616],\n         [ 0.0481,  0.4681],\n         [ 0.0600,  0.4746],\n         [ 0.0721,  0.4810],\n         [ 0.0844,  0.4874],\n         [ 0.0969,  0.4937],\n         [ 0.1096,  0.5000],\n         [ 0.1225,  0.5062],\n         [ 0.1356,  0.5124],\n         [ 0.1489,  0.5185],\n         [ 0.1624,  0.5246],\n         [ 0.1761,  0.5307],\n         [ 0.1900,  0.5367],\n         [ 0.2041,  0.5426],\n         [ 0.2184,  0.5485],\n         [ 0.2329,  0.5544],\n         [ 0.2476,  0.5602],\n         [ 0.2625,  0.5660],\n         [ 0.2776,  0.5718],\n         [ 0.2929,  0.5775],\n         [ 0.3084,  0.5832],\n         [ 0.3241,  0.5888],\n         [ 0.3400,  0.5944],\n         [ 0.3561,  0.6000],\n         [ 0.3724,  0.6055],\n         [ 0.3889,  0.6110],\n         [ 0.4056,  0.6165],\n         [ 0.4225,  0.6220],\n         [ 0.4396,  0.6274],\n         [ 0.4569,  0.6327],\n         [ 0.4744,  0.6381],\n         [ 0.4921,  0.6434],\n         [ 0.5100,  0.6487],\n         [ 0.5281,  0.6539],\n         [ 0.5464,  0.6592],\n         [ 0.5649,  0.6644],\n         [ 0.5836,  0.6695],\n         [ 0.6025,  0.6747],\n         [ 0.6216,  0.6798],\n         [ 0.6409,  0.6849],\n         [ 0.6604,  0.6899],\n         [ 0.6801,  0.6950],\n         [ 0.7000,  0.7000]], dtype=torch.float64),\n tensor([[0.5992],\n         [0.6002],\n         [0.6011],\n         [0.6018],\n         [0.6024],\n         [0.6030],\n         [0.6036],\n         [0.6041],\n         [0.6046],\n         [0.6050],\n         [0.6055],\n         [0.6059],\n         [0.6063],\n         [0.6067],\n         [0.6071],\n         [0.6075],\n         [0.6079],\n         [0.6083],\n         [0.6087],\n         [0.6091],\n         [0.6095],\n         [0.6098],\n         [0.6102],\n         [0.6106],\n         [0.6109],\n         [0.6113],\n         [0.6117],\n         [0.6120],\n         [0.6124],\n         [0.6127],\n         [0.6131],\n         [0.6135],\n         [0.6138],\n         [0.6142],\n         [0.6146],\n         [0.6149],\n         [0.6153],\n         [0.6157],\n         [0.6160],\n         [0.6164],\n         [0.6168],\n         [0.6171],\n         [0.6175],\n         [0.6179],\n         [0.6183],\n         [0.6186],\n         [0.6190],\n         [0.6194],\n         [0.6198],\n         [0.6202],\n         [0.6206],\n         [0.6209],\n         [0.6213],\n         [0.6217],\n         [0.6221],\n         [0.6225],\n         [0.6229],\n         [0.6233],\n         [0.6237],\n         [0.6241],\n         [0.6245],\n         [0.6249],\n         [0.6254],\n         [0.6258],\n         [0.6262],\n         [0.6266],\n         [0.6270],\n         [0.6274],\n         [0.6279],\n         [0.6283],\n         [0.6287],\n         [0.6291],\n         [0.6296],\n         [0.6300],\n         [0.6304],\n         [0.6309],\n         [0.6313],\n         [0.6318],\n         [0.6322],\n         [0.6326],\n         [0.6331],\n         [0.6335],\n         [0.6340],\n         [0.6344],\n         [0.6349],\n         [0.6353],\n         [0.6358],\n         [0.6363],\n         [0.6367],\n         [0.6372],\n         [0.6376],\n         [0.6381],\n         [0.6386],\n         [0.6390],\n         [0.6395],\n         [0.6400],\n         [0.6404],\n         [0.6409],\n         [0.6414],\n         [0.6419]], dtype=torch.float64))"
     },
     "execution_count": 4,
     "metadata": {},
     "output_type": "execute_result"
    }
   ],
   "source": [
    "import load_data\n",
    "\n",
    "x, y = load_data.load_data('test_data_100.csv')\n",
    "x, y"
   ],
   "metadata": {
    "collapsed": false
   }
  },
  {
   "cell_type": "code",
   "execution_count": 5,
   "outputs": [
    {
     "data": {
      "text/plain": "(3.0576704965155336e-05,\n [array([[-0.45076459, -0.19174923],\n         [-0.91492632, -0.83403334]]),\n  array([[-0.71770705, -0.72617393],\n         [-0.30349272, -1.41161992],\n         [-0.2423355 , -1.37838974]]),\n  array([[0.29498955, 0.50604064, 0.68106376]])])"
     },
     "execution_count": 5,
     "metadata": {},
     "output_type": "execute_result"
    }
   ],
   "source": [
    "%reload neural_network\n",
    "import neural_network\n",
    "\n",
    "loss, parameters = neural_network.train(x, y, n_epochs=10000, learning_rate=0.5)\n",
    "loss, parameters"
   ],
   "metadata": {
    "collapsed": false
   }
  },
  {
   "cell_type": "code",
   "execution_count": 6,
   "outputs": [
    {
     "data": {
      "text/plain": "'{\"w11\":\"-0.450764592239\",\"w12\":\"-0.914926323186\",\"w21\":\"-0.191749233442\",\"w22\":\"-0.834033343271\",\"v11\":\"-0.717707050256\",\"v12\":\"-0.303492718259\",\"v13\":\"-0.242335499072\",\"v21\":\"-0.72617392994\",\"v22\":\"-1.411619920478\",\"v23\":\"-1.37838973646\",\"w1\":\"0.2949895537\",\"w2\":\"0.506040640138\",\"w3\":\"0.681063763114\",\"e\":\"0.000030576705\",\"publickey\":\"30820122300d06092a864886f70d01010105000382010f003082010a0282010100bd55b8dce5bc13a5aedb96c56c81349ce797e1181d59251984f5856683d1b5a6d0d5a746b26df0660b6c0c607bf30707e7173c32d870d0af1b7d1f2854f2761c0259f4a3a231a8c44750bfc0a0dcb0add8e68a7d2a2c7696be2692b61c16e956ac7746beb3342899e5ca6e041ffd13dec92a86601565e0f0104ce584c708bc8a50730438437e7105d234db5bc7b02ae8a27d698bbc46386607fc37456a65ef1c3bbaa1c895ef3c755af6acd86605ce1f27228bdcb2ac3f89a734e370fa9bc1ae8f58dc92c96a245604f29abd9c9fa7a9cb810039f91e74d308a86249322d9882d33f6b384d1d2bb7b233414b82ba694e0b66788434f5b066c0a8cafa94c91ee30203010001\"}'"
     },
     "execution_count": 6,
     "metadata": {},
     "output_type": "execute_result"
    }
   ],
   "source": [
    "%reload prepare_nn_results\n",
    "import prepare_nn_results\n",
    "\n",
    "nn_results = prepare_nn_results.nn_results_to_string(loss, parameters)\n",
    "nn_results"
   ],
   "metadata": {
    "collapsed": false
   }
  },
  {
   "cell_type": "code",
   "execution_count": 6,
   "outputs": [
    {
     "name": "stdout",
     "output_type": "stream",
     "text": [
      "last data:  {\"w11\":\"0.1\",\"w12\":\"0.1\",\"w21\":\"0.1\",\"w22\":\"0.1\",\"v11\":\"0.1\",\"v12\":\"0.1\",\"v13\":\"0.1\",\"v21\":\"0.1\",\"v22\":\"0.1\",\"v23\":\"0.1\",\"w1\":\"0.11\",\"w2\":\"0.1\",\"w3\":\"0.1\",\"e\":\"0.656768543134006\",\"publickey\":\"30819f300d06092a864886f70d010101050003818d00308189028181009de6d77c57ac33c9eae5a70de96b760cae6a48778951ec205ef6a0c492c0a9d7fd295ce9f4fc8fa2f69a15c114c95b1767c2e26b21e2136ba1aa389123cadf7c7a33525aada12e2b673ee1e4e69aae152f12c2f1057530bdb8dfbad77671d9e9c1120cbf134028564deb863d24bec0aebe46c8742a4ce2d6cf8f697e742f420f0203010001\"} \n",
      "\n",
      "{\"prevhash\": \"6379865bfe64091b823b0b35c9a3395e13695d5c8c35999ffd4d8d50d2e2fa60\", \"data\": {\"w11\":\"0.1\",\"w12\":\"0.1\",\"w21\":\"0.1\",\"w22\":\"0.1\",\"v11\":\"0.1\",\"v12\":\"0.1\",\"v13\":\"0.1\",\"v21\":\"0.1\",\"v22\":\"0.1\",\"v23\":\"0.1\",\"w1\":\"0.1\",\"w2\":\"0.1\",\"w3\":\"0.1\",\"e\":\"0.677880771429\",\"publickey\":\"30820122300d06092a864886f70d01010105000382010f003082010a0282010100bd55b8dce5bc13a5aedb96c56c81349ce797e1181d59251984f5856683d1b5a6d0d5a746b26df0660b6c0c607bf30707e7173c32d870d0af1b7d1f2854f2761c0259f4a3a231a8c44750bfc0a0dcb0add8e68a7d2a2c7696be2692b61c16e956ac7746beb3342899e5ca6e041ffd13dec92a86601565e0f0104ce584c708bc8a50730438437e7105d234db5bc7b02ae8a27d698bbc46386607fc37456a65ef1c3bbaa1c895ef3c755af6acd86605ce1f27228bdcb2ac3f89a734e370fa9bc1ae8f58dc92c96a245604f29abd9c9fa7a9cb810039f91e74d308a86249322d9882d33f6b384d1d2bb7b233414b82ba694e0b66788434f5b066c0a8cafa94c91ee30203010001\"}, \"signature\": \"68eaa2c27731457da20d7819175bf40f1813388a930c9a8848832bccfb754cbe79466f9532d1cd6382b805372458109ea270348e4bb3fc40a25efb5ac98e78af78fee45e1d36d409d9d2dc1e9c083e6851275b216a05b7b98419eda09685f5371011dbcc8caead181aa354e3a0cf5e133a89dc23855170d6290319607f0368f495e20637a40c2dcff4afc19d41e9bd4c041fd0e3a64573a37ab54cfc49bc7d167f1b5d40e133a54bbc43734a407a4952ee85524d7ac5434277adfb35e10554192f959f8fe9b2297ca42c3953172a9f43ecaef1e06194fbbc6152fb339e98ec0c96e1b3872d854754b321ca8eb145db8352613b48fbf7d003c70e64006d2905e4\"}\n"
     ]
    },
    {
     "data": {
      "text/plain": "'{\"timestamp\":1665962306964,\"status\":400,\"error\":\"Bad Request\",\"message\":\"\",\"path\":\"/nbc/newblock/\"}'"
     },
     "execution_count": 6,
     "metadata": {},
     "output_type": "execute_result"
    }
   ],
   "source": [
    "%reload blockchain\n",
    "import blockchain\n",
    "\n",
    "blockchain.add_block(nn_results)"
   ],
   "metadata": {
    "collapsed": false
   }
  },
  {
   "cell_type": "code",
   "execution_count": 14,
   "outputs": [
    {
     "name": "stdout",
     "output_type": "stream",
     "text": [
      "last data:  {\"w11\":\"0.1\",\"w12\":\"0.1\",\"w21\":\"0.1\",\"w22\":\"0.1\",\"v11\":\"0.1\",\"v12\":\"0.1\",\"v13\":\"0.1\",\"v21\":\"0.1\",\"v22\":\"0.1\",\"v23\":\"0.1\",\"w1\":\"0.1\",\"w2\":\"0.1\",\"w3\":\"0.1\",\"e\":\"0.677880771\",\"publickey\":\"30819f300d06092a864886f70d010101050003818d00308189028181008a06664cea109f97b240636236df2df275608e1c3efb60d8f1710c3af0aeb689b7b4d9216ee4747a6be6623c845266e1fc0095b28303cf273b9cfe44eed2c42ea4b16139d5a5e52b8541c77e442dd112730eac016b3158aa1de4b76def2e0d337db47e4f2edaf944b73832c57d75d7d7b1740dc3fb958d5fab848f8e4f4928f70203010001\"} \n",
      "\n"
     ]
    },
    {
     "data": {
      "text/plain": "'5537e54dfece4dbaee1de295a4b3870dff476455aa9e0c11d133893f42995bf4'"
     },
     "execution_count": 14,
     "metadata": {},
     "output_type": "execute_result"
    }
   ],
   "source": [
    "blockchain.get_block_hash(-2)"
   ],
   "metadata": {
    "collapsed": false
   }
  },
  {
   "cell_type": "code",
   "execution_count": 15,
   "outputs": [
    {
     "name": "stdout",
     "output_type": "stream",
     "text": [
      "last data:  {\"w11\":\"0.1\",\"w12\":\"0.1\",\"w21\":\"0.1\",\"w22\":\"0.1\",\"v11\":\"0.1\",\"v12\":\"0.1\",\"v13\":\"0.1\",\"v21\":\"0.1\",\"v22\":\"0.1\",\"v23\":\"0.1\",\"w1\":\"0.11\",\"w2\":\"0.1\",\"w3\":\"0.1\",\"e\":\"0.656768543134006\",\"publickey\":\"30819f300d06092a864886f70d010101050003818d00308189028181009de6d77c57ac33c9eae5a70de96b760cae6a48778951ec205ef6a0c492c0a9d7fd295ce9f4fc8fa2f69a15c114c95b1767c2e26b21e2136ba1aa389123cadf7c7a33525aada12e2b673ee1e4e69aae152f12c2f1057530bdb8dfbad77671d9e9c1120cbf134028564deb863d24bec0aebe46c8742a4ce2d6cf8f697e742f420f0203010001\"} \n",
      "\n"
     ]
    },
    {
     "data": {
      "text/plain": "'5537e54dfece4dbaee1de295a4b3870dff476455aa9e0c11d133893f42995bf4'"
     },
     "execution_count": 15,
     "metadata": {},
     "output_type": "execute_result"
    }
   ],
   "source": [
    "blockchain.get_last_block()['prevhash']"
   ],
   "metadata": {
    "collapsed": false
   }
  },
  {
   "cell_type": "code",
   "execution_count": 2,
   "outputs": [
    {
     "data": {
      "text/plain": "'30820122300d06092a864886f70d01010105000382010f003082010a0282010100bd55b8dce5bc13a5aedb96c56c81349ce797e1181d59251984f5856683d1b5a6d0d5a746b26df0660b6c0c607bf30707e7173c32d870d0af1b7d1f2854f2761c0259f4a3a231a8c44750bfc0a0dcb0add8e68a7d2a2c7696be2692b61c16e956ac7746beb3342899e5ca6e041ffd13dec92a86601565e0f0104ce584c708bc8a50730438437e7105d234db5bc7b02ae8a27d698bbc46386607fc37456a65ef1c3bbaa1c895ef3c755af6acd86605ce1f27228bdcb2ac3f89a734e370fa9bc1ae8f58dc92c96a245604f29abd9c9fa7a9cb810039f91e74d308a86249322d9882d33f6b384d1d2bb7b233414b82ba694e0b66788434f5b066c0a8cafa94c91ee30203010001'"
     },
     "execution_count": 2,
     "metadata": {},
     "output_type": "execute_result"
    }
   ],
   "source": [
    "%reload rsa\n",
    "import rsa\n",
    "\n",
    "rsa.public_key_hex()"
   ],
   "metadata": {
    "collapsed": false
   }
  },
  {
   "cell_type": "code",
   "execution_count": 3,
   "outputs": [
    {
     "data": {
      "text/plain": "'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'"
     },
     "execution_count": 3,
     "metadata": {},
     "output_type": "execute_result"
    }
   ],
   "source": [
    "rsa.private_key_hex()"
   ],
   "metadata": {
    "collapsed": false
   }
  },
  {
   "cell_type": "code",
   "execution_count": 8,
   "outputs": [
    {
     "data": {
      "text/plain": "'{\"timestamp\":1665995605773,\"status\":400,\"error\":\"Bad Request\",\"message\":\"\",\"path\":\"/nbc/autor\"}'"
     },
     "execution_count": 8,
     "metadata": {},
     "output_type": "execute_result"
    }
   ],
   "source": [
    "%reload send_author_info\n",
    "import send_author_info\n",
    "\n",
    "send_author_info.send()"
   ],
   "metadata": {
    "collapsed": false
   }
  },
  {
   "cell_type": "code",
   "execution_count": null,
   "outputs": [],
   "source": [],
   "metadata": {
    "collapsed": false
   }
  }
 ],
 "metadata": {
  "kernelspec": {
   "display_name": "Python 3",
   "language": "python",
   "name": "python3"
  },
  "language_info": {
   "codemirror_mode": {
    "name": "ipython",
    "version": 2
   },
   "file_extension": ".py",
   "mimetype": "text/x-python",
   "name": "python",
   "nbconvert_exporter": "python",
   "pygments_lexer": "ipython2",
   "version": "2.7.6"
  }
 },
 "nbformat": 4,
 "nbformat_minor": 0
}
