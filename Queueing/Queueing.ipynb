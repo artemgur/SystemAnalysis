{
 "cells": [
  {
   "cell_type": "markdown",
   "source": [
    "## Оценка интенсивности прихода заявок в систему"
   ],
   "metadata": {
    "collapsed": false
   }
  },
  {
   "cell_type": "code",
   "execution_count": 2,
   "metadata": {
    "collapsed": true
   },
   "outputs": [],
   "source": [
    "import pandas as pd"
   ]
  },
  {
   "cell_type": "code",
   "execution_count": 3,
   "outputs": [
    {
     "data": {
      "text/plain": "                       datetime\n0       2020-04-02 00:00:02.425\n1       2020-04-02 00:01:39.372\n2       2020-04-02 00:12:28.616\n3       2020-04-02 00:39:24.379\n4       2020-04-02 00:41:54.129\n...                         ...\n1792126 2021-10-29 14:32:38.762\n1792127 2021-10-29 14:34:11.988\n1792128 2021-10-29 14:36:30.574\n1792129 2021-10-29 14:38:12.585\n1792130 2021-10-29 14:39:30.466\n\n[1792131 rows x 1 columns]",
      "text/html": "<div>\n<style scoped>\n    .dataframe tbody tr th:only-of-type {\n        vertical-align: middle;\n    }\n\n    .dataframe tbody tr th {\n        vertical-align: top;\n    }\n\n    .dataframe thead th {\n        text-align: right;\n    }\n</style>\n<table border=\"1\" class=\"dataframe\">\n  <thead>\n    <tr style=\"text-align: right;\">\n      <th></th>\n      <th>datetime</th>\n    </tr>\n  </thead>\n  <tbody>\n    <tr>\n      <th>0</th>\n      <td>2020-04-02 00:00:02.425</td>\n    </tr>\n    <tr>\n      <th>1</th>\n      <td>2020-04-02 00:01:39.372</td>\n    </tr>\n    <tr>\n      <th>2</th>\n      <td>2020-04-02 00:12:28.616</td>\n    </tr>\n    <tr>\n      <th>3</th>\n      <td>2020-04-02 00:39:24.379</td>\n    </tr>\n    <tr>\n      <th>4</th>\n      <td>2020-04-02 00:41:54.129</td>\n    </tr>\n    <tr>\n      <th>...</th>\n      <td>...</td>\n    </tr>\n    <tr>\n      <th>1792126</th>\n      <td>2021-10-29 14:32:38.762</td>\n    </tr>\n    <tr>\n      <th>1792127</th>\n      <td>2021-10-29 14:34:11.988</td>\n    </tr>\n    <tr>\n      <th>1792128</th>\n      <td>2021-10-29 14:36:30.574</td>\n    </tr>\n    <tr>\n      <th>1792129</th>\n      <td>2021-10-29 14:38:12.585</td>\n    </tr>\n    <tr>\n      <th>1792130</th>\n      <td>2021-10-29 14:39:30.466</td>\n    </tr>\n  </tbody>\n</table>\n<p>1792131 rows × 1 columns</p>\n</div>"
     },
     "execution_count": 3,
     "metadata": {},
     "output_type": "execute_result"
    }
   ],
   "source": [
    "data = pd.read_csv('ddd.csv', parse_dates=[0], names=['datetime'])\n",
    "data"
   ],
   "metadata": {
    "collapsed": false
   }
  },
  {
   "cell_type": "code",
   "execution_count": 4,
   "outputs": [
    {
     "name": "stdout",
     "output_type": "stream",
     "text": [
      "<class 'pandas.core.frame.DataFrame'>\n",
      "RangeIndex: 1792131 entries, 0 to 1792130\n",
      "Data columns (total 1 columns):\n",
      " #   Column    Dtype         \n",
      "---  ------    -----         \n",
      " 0   datetime  datetime64[ns]\n",
      "dtypes: datetime64[ns](1)\n",
      "memory usage: 13.7 MB\n"
     ]
    }
   ],
   "source": [
    "data.info()"
   ],
   "metadata": {
    "collapsed": false
   }
  },
  {
   "cell_type": "code",
   "execution_count": 5,
   "outputs": [
    {
     "data": {
      "text/plain": "                       datetime  year  month  dayofweek  day  hour\n0       2020-04-02 00:00:02.425  2020      4          3    2     0\n1       2020-04-02 00:01:39.372  2020      4          3    2     0\n2       2020-04-02 00:12:28.616  2020      4          3    2     0\n3       2020-04-02 00:39:24.379  2020      4          3    2     0\n4       2020-04-02 00:41:54.129  2020      4          3    2     0\n...                         ...   ...    ...        ...  ...   ...\n1792126 2021-10-29 14:32:38.762  2021     10          4   29    14\n1792127 2021-10-29 14:34:11.988  2021     10          4   29    14\n1792128 2021-10-29 14:36:30.574  2021     10          4   29    14\n1792129 2021-10-29 14:38:12.585  2021     10          4   29    14\n1792130 2021-10-29 14:39:30.466  2021     10          4   29    14\n\n[1792131 rows x 6 columns]",
      "text/html": "<div>\n<style scoped>\n    .dataframe tbody tr th:only-of-type {\n        vertical-align: middle;\n    }\n\n    .dataframe tbody tr th {\n        vertical-align: top;\n    }\n\n    .dataframe thead th {\n        text-align: right;\n    }\n</style>\n<table border=\"1\" class=\"dataframe\">\n  <thead>\n    <tr style=\"text-align: right;\">\n      <th></th>\n      <th>datetime</th>\n      <th>year</th>\n      <th>month</th>\n      <th>dayofweek</th>\n      <th>day</th>\n      <th>hour</th>\n    </tr>\n  </thead>\n  <tbody>\n    <tr>\n      <th>0</th>\n      <td>2020-04-02 00:00:02.425</td>\n      <td>2020</td>\n      <td>4</td>\n      <td>3</td>\n      <td>2</td>\n      <td>0</td>\n    </tr>\n    <tr>\n      <th>1</th>\n      <td>2020-04-02 00:01:39.372</td>\n      <td>2020</td>\n      <td>4</td>\n      <td>3</td>\n      <td>2</td>\n      <td>0</td>\n    </tr>\n    <tr>\n      <th>2</th>\n      <td>2020-04-02 00:12:28.616</td>\n      <td>2020</td>\n      <td>4</td>\n      <td>3</td>\n      <td>2</td>\n      <td>0</td>\n    </tr>\n    <tr>\n      <th>3</th>\n      <td>2020-04-02 00:39:24.379</td>\n      <td>2020</td>\n      <td>4</td>\n      <td>3</td>\n      <td>2</td>\n      <td>0</td>\n    </tr>\n    <tr>\n      <th>4</th>\n      <td>2020-04-02 00:41:54.129</td>\n      <td>2020</td>\n      <td>4</td>\n      <td>3</td>\n      <td>2</td>\n      <td>0</td>\n    </tr>\n    <tr>\n      <th>...</th>\n      <td>...</td>\n      <td>...</td>\n      <td>...</td>\n      <td>...</td>\n      <td>...</td>\n      <td>...</td>\n    </tr>\n    <tr>\n      <th>1792126</th>\n      <td>2021-10-29 14:32:38.762</td>\n      <td>2021</td>\n      <td>10</td>\n      <td>4</td>\n      <td>29</td>\n      <td>14</td>\n    </tr>\n    <tr>\n      <th>1792127</th>\n      <td>2021-10-29 14:34:11.988</td>\n      <td>2021</td>\n      <td>10</td>\n      <td>4</td>\n      <td>29</td>\n      <td>14</td>\n    </tr>\n    <tr>\n      <th>1792128</th>\n      <td>2021-10-29 14:36:30.574</td>\n      <td>2021</td>\n      <td>10</td>\n      <td>4</td>\n      <td>29</td>\n      <td>14</td>\n    </tr>\n    <tr>\n      <th>1792129</th>\n      <td>2021-10-29 14:38:12.585</td>\n      <td>2021</td>\n      <td>10</td>\n      <td>4</td>\n      <td>29</td>\n      <td>14</td>\n    </tr>\n    <tr>\n      <th>1792130</th>\n      <td>2021-10-29 14:39:30.466</td>\n      <td>2021</td>\n      <td>10</td>\n      <td>4</td>\n      <td>29</td>\n      <td>14</td>\n    </tr>\n  </tbody>\n</table>\n<p>1792131 rows × 6 columns</p>\n</div>"
     },
     "execution_count": 5,
     "metadata": {},
     "output_type": "execute_result"
    }
   ],
   "source": [
    "data['year'] = data['datetime'].dt.year\n",
    "data['month'] = data['datetime'].dt.month\n",
    "data['dayofweek'] = data['datetime'].dt.dayofweek\n",
    "data['day'] = data['datetime'].dt.day\n",
    "data['hour'] = data['datetime'].dt.hour\n",
    "data"
   ],
   "metadata": {
    "collapsed": false
   }
  },
  {
   "cell_type": "code",
   "execution_count": 6,
   "outputs": [],
   "source": [
    "year = 2020\n",
    "month = 11"
   ],
   "metadata": {
    "collapsed": false
   }
  },
  {
   "cell_type": "code",
   "execution_count": 7,
   "outputs": [],
   "source": [
    "best_variance = float('inf')\n",
    "best_mean = 0\n",
    "\n",
    "\n",
    "def add_mean_var(mean, variance):\n",
    "    global best_mean, best_variance\n",
    "    print('Выборочное среднее:', mean)\n",
    "    print('Дисперсия:', variance)\n",
    "    if variance < best_variance:\n",
    "        best_variance = variance\n",
    "        best_mean = mean"
   ],
   "metadata": {
    "collapsed": false
   }
  },
  {
   "cell_type": "markdown",
   "source": [
    "### 1. Постройте статистический ряд количества заявок в течение часа за три дня. Вычислите выборочные среднюю и дисперсию полученного статистического ряда"
   ],
   "metadata": {
    "collapsed": false
   }
  },
  {
   "cell_type": "code",
   "execution_count": 8,
   "outputs": [
    {
     "data": {
      "text/plain": "                      datetime  year  month  dayofweek  day  hour\n538884 2020-11-01 00:00:32.156  2020     11          6    1     0\n538885 2020-11-01 00:01:00.823  2020     11          6    1     0\n538886 2020-11-01 00:01:13.797  2020     11          6    1     0\n538887 2020-11-01 00:01:13.833  2020     11          6    1     0\n538888 2020-11-01 00:01:13.992  2020     11          6    1     0\n...                        ...   ...    ...        ...  ...   ...\n546828 2020-11-03 23:55:47.969  2020     11          1    3    23\n546829 2020-11-03 23:56:32.690  2020     11          1    3    23\n546830 2020-11-03 23:56:44.736  2020     11          1    3    23\n546831 2020-11-03 23:58:55.218  2020     11          1    3    23\n546832 2020-11-03 23:59:16.045  2020     11          1    3    23\n\n[7949 rows x 6 columns]",
      "text/html": "<div>\n<style scoped>\n    .dataframe tbody tr th:only-of-type {\n        vertical-align: middle;\n    }\n\n    .dataframe tbody tr th {\n        vertical-align: top;\n    }\n\n    .dataframe thead th {\n        text-align: right;\n    }\n</style>\n<table border=\"1\" class=\"dataframe\">\n  <thead>\n    <tr style=\"text-align: right;\">\n      <th></th>\n      <th>datetime</th>\n      <th>year</th>\n      <th>month</th>\n      <th>dayofweek</th>\n      <th>day</th>\n      <th>hour</th>\n    </tr>\n  </thead>\n  <tbody>\n    <tr>\n      <th>538884</th>\n      <td>2020-11-01 00:00:32.156</td>\n      <td>2020</td>\n      <td>11</td>\n      <td>6</td>\n      <td>1</td>\n      <td>0</td>\n    </tr>\n    <tr>\n      <th>538885</th>\n      <td>2020-11-01 00:01:00.823</td>\n      <td>2020</td>\n      <td>11</td>\n      <td>6</td>\n      <td>1</td>\n      <td>0</td>\n    </tr>\n    <tr>\n      <th>538886</th>\n      <td>2020-11-01 00:01:13.797</td>\n      <td>2020</td>\n      <td>11</td>\n      <td>6</td>\n      <td>1</td>\n      <td>0</td>\n    </tr>\n    <tr>\n      <th>538887</th>\n      <td>2020-11-01 00:01:13.833</td>\n      <td>2020</td>\n      <td>11</td>\n      <td>6</td>\n      <td>1</td>\n      <td>0</td>\n    </tr>\n    <tr>\n      <th>538888</th>\n      <td>2020-11-01 00:01:13.992</td>\n      <td>2020</td>\n      <td>11</td>\n      <td>6</td>\n      <td>1</td>\n      <td>0</td>\n    </tr>\n    <tr>\n      <th>...</th>\n      <td>...</td>\n      <td>...</td>\n      <td>...</td>\n      <td>...</td>\n      <td>...</td>\n      <td>...</td>\n    </tr>\n    <tr>\n      <th>546828</th>\n      <td>2020-11-03 23:55:47.969</td>\n      <td>2020</td>\n      <td>11</td>\n      <td>1</td>\n      <td>3</td>\n      <td>23</td>\n    </tr>\n    <tr>\n      <th>546829</th>\n      <td>2020-11-03 23:56:32.690</td>\n      <td>2020</td>\n      <td>11</td>\n      <td>1</td>\n      <td>3</td>\n      <td>23</td>\n    </tr>\n    <tr>\n      <th>546830</th>\n      <td>2020-11-03 23:56:44.736</td>\n      <td>2020</td>\n      <td>11</td>\n      <td>1</td>\n      <td>3</td>\n      <td>23</td>\n    </tr>\n    <tr>\n      <th>546831</th>\n      <td>2020-11-03 23:58:55.218</td>\n      <td>2020</td>\n      <td>11</td>\n      <td>1</td>\n      <td>3</td>\n      <td>23</td>\n    </tr>\n    <tr>\n      <th>546832</th>\n      <td>2020-11-03 23:59:16.045</td>\n      <td>2020</td>\n      <td>11</td>\n      <td>1</td>\n      <td>3</td>\n      <td>23</td>\n    </tr>\n  </tbody>\n</table>\n<p>7949 rows × 6 columns</p>\n</div>"
     },
     "execution_count": 8,
     "metadata": {},
     "output_type": "execute_result"
    }
   ],
   "source": [
    "data_3_days = data.query('year == @year & month == @month & 1 <= day <= 3')\n",
    "data_3_days"
   ],
   "metadata": {
    "collapsed": false
   }
  },
  {
   "cell_type": "markdown",
   "source": [
    "Статистический ряд"
   ],
   "metadata": {
    "collapsed": false
   }
  },
  {
   "cell_type": "code",
   "execution_count": 9,
   "outputs": [
    {
     "data": {
      "text/plain": "array([185,  92,  50,  54,  26, 181,  15, 242,  51, 114,  79,  74,  87,\n        83,  66,  54, 114, 136, 206, 108, 184, 181, 179, 114,  39,  43,\n        36,  68,  90,  36, 177,  38,  44,  82,  88, 130, 132, 135, 198,\n       149, 188, 242, 181, 226, 135, 124, 169, 135,  72, 108,  38,  50,\n        21,   6, 127,  74,  66,  59,  69, 150,  99, 123, 139, 113,  79,\n       147, 112, 174, 131, 151, 182,  99], dtype=int64)"
     },
     "execution_count": 9,
     "metadata": {},
     "output_type": "execute_result"
    }
   ],
   "source": [
    "data_3_days_grouped_values = data_3_days.groupby(['day', 'hour']).size().values\n",
    "data_3_days_grouped_values"
   ],
   "metadata": {
    "collapsed": false
   }
  },
  {
   "cell_type": "code",
   "execution_count": 10,
   "outputs": [
    {
     "name": "stdout",
     "output_type": "stream",
     "text": [
      "Выборочное среднее: 110.40277777777777\n",
      "Дисперсия: 3298.9905478395062\n"
     ]
    }
   ],
   "source": [
    "add_mean_var(data_3_days_grouped_values.mean(), data_3_days_grouped_values.var())"
   ],
   "metadata": {
    "collapsed": false
   }
  },
  {
   "cell_type": "markdown",
   "source": [
    "### 2. Постройте статистический ряд количества заявок в течение дня за месяц. Вычислите выборочные среднюю и дисперсию полученного статистического ряда. Единицы измерения полученных характеристик переведите в кол. заявок/час."
   ],
   "metadata": {
    "collapsed": false
   }
  },
  {
   "cell_type": "code",
   "execution_count": 11,
   "outputs": [
    {
     "data": {
      "text/plain": "                      datetime  year  month  dayofweek  day  hour\n538884 2020-11-01 00:00:32.156  2020     11          6    1     0\n538885 2020-11-01 00:01:00.823  2020     11          6    1     0\n538886 2020-11-01 00:01:13.797  2020     11          6    1     0\n538887 2020-11-01 00:01:13.833  2020     11          6    1     0\n538888 2020-11-01 00:01:13.992  2020     11          6    1     0\n...                        ...   ...    ...        ...  ...   ...\n617043 2020-11-30 23:59:47.018  2020     11          0   30    23\n617044 2020-11-30 23:59:47.131  2020     11          0   30    23\n617045 2020-11-30 23:59:47.330  2020     11          0   30    23\n617046 2020-11-30 23:59:47.399  2020     11          0   30    23\n617047 2020-11-30 23:59:47.423  2020     11          0   30    23\n\n[78164 rows x 6 columns]",
      "text/html": "<div>\n<style scoped>\n    .dataframe tbody tr th:only-of-type {\n        vertical-align: middle;\n    }\n\n    .dataframe tbody tr th {\n        vertical-align: top;\n    }\n\n    .dataframe thead th {\n        text-align: right;\n    }\n</style>\n<table border=\"1\" class=\"dataframe\">\n  <thead>\n    <tr style=\"text-align: right;\">\n      <th></th>\n      <th>datetime</th>\n      <th>year</th>\n      <th>month</th>\n      <th>dayofweek</th>\n      <th>day</th>\n      <th>hour</th>\n    </tr>\n  </thead>\n  <tbody>\n    <tr>\n      <th>538884</th>\n      <td>2020-11-01 00:00:32.156</td>\n      <td>2020</td>\n      <td>11</td>\n      <td>6</td>\n      <td>1</td>\n      <td>0</td>\n    </tr>\n    <tr>\n      <th>538885</th>\n      <td>2020-11-01 00:01:00.823</td>\n      <td>2020</td>\n      <td>11</td>\n      <td>6</td>\n      <td>1</td>\n      <td>0</td>\n    </tr>\n    <tr>\n      <th>538886</th>\n      <td>2020-11-01 00:01:13.797</td>\n      <td>2020</td>\n      <td>11</td>\n      <td>6</td>\n      <td>1</td>\n      <td>0</td>\n    </tr>\n    <tr>\n      <th>538887</th>\n      <td>2020-11-01 00:01:13.833</td>\n      <td>2020</td>\n      <td>11</td>\n      <td>6</td>\n      <td>1</td>\n      <td>0</td>\n    </tr>\n    <tr>\n      <th>538888</th>\n      <td>2020-11-01 00:01:13.992</td>\n      <td>2020</td>\n      <td>11</td>\n      <td>6</td>\n      <td>1</td>\n      <td>0</td>\n    </tr>\n    <tr>\n      <th>...</th>\n      <td>...</td>\n      <td>...</td>\n      <td>...</td>\n      <td>...</td>\n      <td>...</td>\n      <td>...</td>\n    </tr>\n    <tr>\n      <th>617043</th>\n      <td>2020-11-30 23:59:47.018</td>\n      <td>2020</td>\n      <td>11</td>\n      <td>0</td>\n      <td>30</td>\n      <td>23</td>\n    </tr>\n    <tr>\n      <th>617044</th>\n      <td>2020-11-30 23:59:47.131</td>\n      <td>2020</td>\n      <td>11</td>\n      <td>0</td>\n      <td>30</td>\n      <td>23</td>\n    </tr>\n    <tr>\n      <th>617045</th>\n      <td>2020-11-30 23:59:47.330</td>\n      <td>2020</td>\n      <td>11</td>\n      <td>0</td>\n      <td>30</td>\n      <td>23</td>\n    </tr>\n    <tr>\n      <th>617046</th>\n      <td>2020-11-30 23:59:47.399</td>\n      <td>2020</td>\n      <td>11</td>\n      <td>0</td>\n      <td>30</td>\n      <td>23</td>\n    </tr>\n    <tr>\n      <th>617047</th>\n      <td>2020-11-30 23:59:47.423</td>\n      <td>2020</td>\n      <td>11</td>\n      <td>0</td>\n      <td>30</td>\n      <td>23</td>\n    </tr>\n  </tbody>\n</table>\n<p>78164 rows × 6 columns</p>\n</div>"
     },
     "execution_count": 11,
     "metadata": {},
     "output_type": "execute_result"
    }
   ],
   "source": [
    "data_month = data.query('year == @year & month == @month')\n",
    "data_month"
   ],
   "metadata": {
    "collapsed": false
   }
  },
  {
   "cell_type": "markdown",
   "source": [
    "Статистический ряд"
   ],
   "metadata": {
    "collapsed": false
   }
  },
  {
   "cell_type": "code",
   "execution_count": 12,
   "outputs": [
    {
     "data": {
      "text/plain": "array([111.45833333, 120.20833333,  99.54166667, 101.83333333,\n       115.125     , 113.83333333, 120.58333333,  92.41666667,\n       126.25      , 109.66666667, 104.08333333, 105.70833333,\n       112.16666667, 116.20833333,  89.04166667, 114.33333333,\n       110.54166667, 109.91666667, 105.20833333, 109.5       ,\n       119.75      ,  94.95833333, 100.        , 107.29166667,\n       115.08333333, 106.5       , 112.70833333, 121.95833333,\n        85.58333333, 105.375     ])"
     },
     "execution_count": 12,
     "metadata": {},
     "output_type": "execute_result"
    }
   ],
   "source": [
    "data_month_grouped_values = data_month.groupby(['day']).size().values / 24\n",
    "data_month_grouped_values"
   ],
   "metadata": {
    "collapsed": false
   }
  },
  {
   "cell_type": "code",
   "execution_count": 13,
   "outputs": [
    {
     "name": "stdout",
     "output_type": "stream",
     "text": [
      "Выборочное среднее: 108.56111111111113\n",
      "Дисперсия: 91.98179783950617\n"
     ]
    }
   ],
   "source": [
    "add_mean_var(data_month_grouped_values.mean(), data_month_grouped_values.var())"
   ],
   "metadata": {
    "collapsed": false
   }
  },
  {
   "cell_type": "markdown",
   "source": [
    "### 3. Воспользуйтесь данными двух месяцев, соседних Вашему варианту. Постройте статистический ряд количества заявок в течение понедельника за три месяца. Вычислите выборочные среднюю и дисперсию полученного статистического ряда. Единицы измерения полученных характеристик переведите в кол. заявок/час."
   ],
   "metadata": {
    "collapsed": false
   }
  },
  {
   "cell_type": "code",
   "execution_count": 14,
   "outputs": [
    {
     "data": {
      "text/plain": "                      datetime  year  month  dayofweek  day  hour\n434204 2020-10-01 00:00:47.540  2020     10          3    1     0\n434205 2020-10-01 00:00:51.139  2020     10          3    1     0\n434206 2020-10-01 00:01:21.372  2020     10          3    1     0\n434207 2020-10-01 00:02:17.099  2020     10          3    1     0\n434208 2020-10-01 00:02:25.151  2020     10          3    1     0\n...                        ...   ...    ...        ...  ...   ...\n700235 2020-12-31 23:59:52.708  2020     12          3   31    23\n700236 2020-12-31 23:59:52.742  2020     12          3   31    23\n700237 2020-12-31 23:59:52.764  2020     12          3   31    23\n700238 2020-12-31 23:59:52.764  2020     12          3   31    23\n700239 2020-12-31 23:59:59.025  2020     12          3   31    23\n\n[266036 rows x 6 columns]",
      "text/html": "<div>\n<style scoped>\n    .dataframe tbody tr th:only-of-type {\n        vertical-align: middle;\n    }\n\n    .dataframe tbody tr th {\n        vertical-align: top;\n    }\n\n    .dataframe thead th {\n        text-align: right;\n    }\n</style>\n<table border=\"1\" class=\"dataframe\">\n  <thead>\n    <tr style=\"text-align: right;\">\n      <th></th>\n      <th>datetime</th>\n      <th>year</th>\n      <th>month</th>\n      <th>dayofweek</th>\n      <th>day</th>\n      <th>hour</th>\n    </tr>\n  </thead>\n  <tbody>\n    <tr>\n      <th>434204</th>\n      <td>2020-10-01 00:00:47.540</td>\n      <td>2020</td>\n      <td>10</td>\n      <td>3</td>\n      <td>1</td>\n      <td>0</td>\n    </tr>\n    <tr>\n      <th>434205</th>\n      <td>2020-10-01 00:00:51.139</td>\n      <td>2020</td>\n      <td>10</td>\n      <td>3</td>\n      <td>1</td>\n      <td>0</td>\n    </tr>\n    <tr>\n      <th>434206</th>\n      <td>2020-10-01 00:01:21.372</td>\n      <td>2020</td>\n      <td>10</td>\n      <td>3</td>\n      <td>1</td>\n      <td>0</td>\n    </tr>\n    <tr>\n      <th>434207</th>\n      <td>2020-10-01 00:02:17.099</td>\n      <td>2020</td>\n      <td>10</td>\n      <td>3</td>\n      <td>1</td>\n      <td>0</td>\n    </tr>\n    <tr>\n      <th>434208</th>\n      <td>2020-10-01 00:02:25.151</td>\n      <td>2020</td>\n      <td>10</td>\n      <td>3</td>\n      <td>1</td>\n      <td>0</td>\n    </tr>\n    <tr>\n      <th>...</th>\n      <td>...</td>\n      <td>...</td>\n      <td>...</td>\n      <td>...</td>\n      <td>...</td>\n      <td>...</td>\n    </tr>\n    <tr>\n      <th>700235</th>\n      <td>2020-12-31 23:59:52.708</td>\n      <td>2020</td>\n      <td>12</td>\n      <td>3</td>\n      <td>31</td>\n      <td>23</td>\n    </tr>\n    <tr>\n      <th>700236</th>\n      <td>2020-12-31 23:59:52.742</td>\n      <td>2020</td>\n      <td>12</td>\n      <td>3</td>\n      <td>31</td>\n      <td>23</td>\n    </tr>\n    <tr>\n      <th>700237</th>\n      <td>2020-12-31 23:59:52.764</td>\n      <td>2020</td>\n      <td>12</td>\n      <td>3</td>\n      <td>31</td>\n      <td>23</td>\n    </tr>\n    <tr>\n      <th>700238</th>\n      <td>2020-12-31 23:59:52.764</td>\n      <td>2020</td>\n      <td>12</td>\n      <td>3</td>\n      <td>31</td>\n      <td>23</td>\n    </tr>\n    <tr>\n      <th>700239</th>\n      <td>2020-12-31 23:59:59.025</td>\n      <td>2020</td>\n      <td>12</td>\n      <td>3</td>\n      <td>31</td>\n      <td>23</td>\n    </tr>\n  </tbody>\n</table>\n<p>266036 rows × 6 columns</p>\n</div>"
     },
     "execution_count": 14,
     "metadata": {},
     "output_type": "execute_result"
    }
   ],
   "source": [
    "data_3_months_mondays = data.query('year == @year & @month - 1 <= month <= @month + 1')\n",
    "data_3_months_mondays"
   ],
   "metadata": {
    "collapsed": false
   }
  },
  {
   "cell_type": "markdown",
   "source": [
    "Статистические ряды по дням недели"
   ],
   "metadata": {
    "collapsed": false
   }
  },
  {
   "cell_type": "code",
   "execution_count": 15,
   "outputs": [
    {
     "data": {
      "text/plain": "dayofweek  day\n0          2      120.208333\n           5      152.541667\n           7      107.083333\n           9      126.250000\n           12     141.208333\n                     ...    \n6          20      92.083333\n           22      94.958333\n           25     106.291667\n           27     100.500000\n           29      85.583333\nLength: 92, dtype: float64"
     },
     "execution_count": 15,
     "metadata": {},
     "output_type": "execute_result"
    }
   ],
   "source": [
    "data_3_months_grouped_values = data_3_months_mondays.groupby(['dayofweek', 'day']).size() / 24\n",
    "data_3_months_grouped_values"
   ],
   "metadata": {
    "collapsed": false
   }
  },
  {
   "cell_type": "markdown",
   "source": [
    "Выборочное среднее и дисперсия по дням недели"
   ],
   "metadata": {
    "collapsed": false
   }
  },
  {
   "cell_type": "code",
   "execution_count": 16,
   "outputs": [
    {
     "name": "stdout",
     "output_type": "stream",
     "text": [
      "Номер дня: 0\n",
      "Выборочное среднее: 117.62820512820511\n",
      "Дисперсия: 262.49695067663816\n",
      "Номер дня: 1\n",
      "Выборочное среднее: 110.03846153846153\n",
      "Дисперсия: 211.35458956552714\n",
      "Номер дня: 2\n",
      "Выборочное среднее: 116.70833333333333\n",
      "Дисперсия: 164.83854166666666\n",
      "Номер дня: 3\n",
      "Выборочное среднее: 126.23511904761905\n",
      "Дисперсия: 1268.9197668650793\n",
      "Номер дня: 4\n",
      "Выборочное среднее: 128.4679487179487\n",
      "Дисперсия: 736.4117922008548\n",
      "Номер дня: 5\n",
      "Выборочное среднее: 142.36538461538458\n",
      "Дисперсия: 1369.0252181267806\n",
      "Номер дня: 6\n",
      "Выборочное среднее: 101.52564102564102\n",
      "Дисперсия: 358.5895655270654\n"
     ]
    }
   ],
   "source": [
    "results_list = []\n",
    "\n",
    "for x in range(data_3_months_grouped_values.index.levshape[0]):\n",
    "    day_series = data_3_months_grouped_values[x]\n",
    "    print('Номер дня:', x)\n",
    "    add_mean_var(day_series.mean(), day_series.var())\n",
    "\n",
    "#data_3_months_results = pd.DataFrame(results_list, columns=['Mean', 'Variance'])\n",
    "#data_3_months_results.index.name = 'Day of week'\n",
    "#data_3_months_results"
   ],
   "metadata": {
    "collapsed": false
   }
  },
  {
   "cell_type": "markdown",
   "source": [
    "### 4. Воспользуйтесь данными двух месяцев, соседних Вашему варианту. Постройте статистический ряд количества заявок в течение недели за три месяца. Вычислите выборочные среднюю и дисперсию полученного статистического ряда. Единицы измерения полученных характеристик переведите в кол. заявок/час"
   ],
   "metadata": {
    "collapsed": false
   }
  },
  {
   "cell_type": "markdown",
   "source": [
    "3 месяца содержат около 13 недель"
   ],
   "metadata": {
    "collapsed": false
   }
  },
  {
   "cell_type": "code",
   "execution_count": 17,
   "outputs": [],
   "source": [
    "weeks_count = 13"
   ],
   "metadata": {
    "collapsed": false
   }
  },
  {
   "cell_type": "markdown",
   "source": [
    "Далее будем работать с интервалом времени из 13 полных недель, начинающимся с первого дня первого из 3 месяцев"
   ],
   "metadata": {
    "collapsed": false
   }
  },
  {
   "cell_type": "markdown",
   "source": [
    "Определим первый день рассматриваемого интервала из 3 месяцев"
   ],
   "metadata": {
    "collapsed": false
   }
  },
  {
   "cell_type": "code",
   "execution_count": 18,
   "outputs": [
    {
     "data": {
      "text/plain": "Timestamp('2020-10-01 00:00:00')"
     },
     "execution_count": 18,
     "metadata": {},
     "output_type": "execute_result"
    }
   ],
   "source": [
    "months_1st_day = pd.Timestamp(\n",
    "    data.query('year == @year & month == @month - 1 & day == 1').reset_index(drop=True).loc[0, 'datetime'].date())\n",
    "months_1st_day"
   ],
   "metadata": {
    "collapsed": false
   }
  },
  {
   "cell_type": "markdown",
   "source": [
    "Найдем последний день интервала времени из 13 недель"
   ],
   "metadata": {
    "collapsed": false
   }
  },
  {
   "cell_type": "code",
   "execution_count": 19,
   "outputs": [
    {
     "data": {
      "text/plain": "Timestamp('2020-12-31 00:00:00')"
     },
     "execution_count": 19,
     "metadata": {},
     "output_type": "execute_result"
    }
   ],
   "source": [
    "from datetime import timedelta\n",
    "\n",
    "months_after_last_day = months_1st_day + timedelta(days=7 * weeks_count)\n",
    "months_after_last_day"
   ],
   "metadata": {
    "collapsed": false
   }
  },
  {
   "cell_type": "markdown",
   "source": [
    "Получим данные в рассматриваемом интервале"
   ],
   "metadata": {
    "collapsed": false
   }
  },
  {
   "cell_type": "code",
   "execution_count": 20,
   "outputs": [
    {
     "data": {
      "text/plain": "                      datetime  year  month  dayofweek  day  hour\n434204 2020-10-01 00:00:47.540  2020     10          3    1     0\n434205 2020-10-01 00:00:51.139  2020     10          3    1     0\n434206 2020-10-01 00:01:21.372  2020     10          3    1     0\n434207 2020-10-01 00:02:17.099  2020     10          3    1     0\n434208 2020-10-01 00:02:25.151  2020     10          3    1     0\n...                        ...   ...    ...        ...  ...   ...\n694466 2020-12-30 23:59:55.948  2020     12          2   30    23\n694467 2020-12-30 23:59:56.124  2020     12          2   30    23\n694468 2020-12-30 23:59:56.147  2020     12          2   30    23\n694469 2020-12-30 23:59:56.294  2020     12          2   30    23\n694470 2020-12-30 23:59:56.321  2020     12          2   30    23\n\n[260267 rows x 6 columns]",
      "text/html": "<div>\n<style scoped>\n    .dataframe tbody tr th:only-of-type {\n        vertical-align: middle;\n    }\n\n    .dataframe tbody tr th {\n        vertical-align: top;\n    }\n\n    .dataframe thead th {\n        text-align: right;\n    }\n</style>\n<table border=\"1\" class=\"dataframe\">\n  <thead>\n    <tr style=\"text-align: right;\">\n      <th></th>\n      <th>datetime</th>\n      <th>year</th>\n      <th>month</th>\n      <th>dayofweek</th>\n      <th>day</th>\n      <th>hour</th>\n    </tr>\n  </thead>\n  <tbody>\n    <tr>\n      <th>434204</th>\n      <td>2020-10-01 00:00:47.540</td>\n      <td>2020</td>\n      <td>10</td>\n      <td>3</td>\n      <td>1</td>\n      <td>0</td>\n    </tr>\n    <tr>\n      <th>434205</th>\n      <td>2020-10-01 00:00:51.139</td>\n      <td>2020</td>\n      <td>10</td>\n      <td>3</td>\n      <td>1</td>\n      <td>0</td>\n    </tr>\n    <tr>\n      <th>434206</th>\n      <td>2020-10-01 00:01:21.372</td>\n      <td>2020</td>\n      <td>10</td>\n      <td>3</td>\n      <td>1</td>\n      <td>0</td>\n    </tr>\n    <tr>\n      <th>434207</th>\n      <td>2020-10-01 00:02:17.099</td>\n      <td>2020</td>\n      <td>10</td>\n      <td>3</td>\n      <td>1</td>\n      <td>0</td>\n    </tr>\n    <tr>\n      <th>434208</th>\n      <td>2020-10-01 00:02:25.151</td>\n      <td>2020</td>\n      <td>10</td>\n      <td>3</td>\n      <td>1</td>\n      <td>0</td>\n    </tr>\n    <tr>\n      <th>...</th>\n      <td>...</td>\n      <td>...</td>\n      <td>...</td>\n      <td>...</td>\n      <td>...</td>\n      <td>...</td>\n    </tr>\n    <tr>\n      <th>694466</th>\n      <td>2020-12-30 23:59:55.948</td>\n      <td>2020</td>\n      <td>12</td>\n      <td>2</td>\n      <td>30</td>\n      <td>23</td>\n    </tr>\n    <tr>\n      <th>694467</th>\n      <td>2020-12-30 23:59:56.124</td>\n      <td>2020</td>\n      <td>12</td>\n      <td>2</td>\n      <td>30</td>\n      <td>23</td>\n    </tr>\n    <tr>\n      <th>694468</th>\n      <td>2020-12-30 23:59:56.147</td>\n      <td>2020</td>\n      <td>12</td>\n      <td>2</td>\n      <td>30</td>\n      <td>23</td>\n    </tr>\n    <tr>\n      <th>694469</th>\n      <td>2020-12-30 23:59:56.294</td>\n      <td>2020</td>\n      <td>12</td>\n      <td>2</td>\n      <td>30</td>\n      <td>23</td>\n    </tr>\n    <tr>\n      <th>694470</th>\n      <td>2020-12-30 23:59:56.321</td>\n      <td>2020</td>\n      <td>12</td>\n      <td>2</td>\n      <td>30</td>\n      <td>23</td>\n    </tr>\n  </tbody>\n</table>\n<p>260267 rows × 6 columns</p>\n</div>"
     },
     "execution_count": 20,
     "metadata": {},
     "output_type": "execute_result"
    }
   ],
   "source": [
    "data_weeks = data.query('@months_1st_day <= datetime < @months_after_last_day').copy()\n",
    "data_weeks"
   ],
   "metadata": {
    "collapsed": false
   }
  },
  {
   "cell_type": "markdown",
   "source": [
    "Добавим в данные интервала столбец \"номер недели\""
   ],
   "metadata": {
    "collapsed": false
   }
  },
  {
   "cell_type": "code",
   "execution_count": 21,
   "outputs": [
    {
     "data": {
      "text/plain": "434204     0\n434205     0\n434206     0\n434207     0\n434208     0\n          ..\n694466    12\n694467    12\n694468    12\n694469    12\n694470    12\nName: week_number, Length: 260267, dtype: int64"
     },
     "execution_count": 21,
     "metadata": {},
     "output_type": "execute_result"
    }
   ],
   "source": [
    "data_weeks['week_number'] = (data_weeks['datetime'] - months_1st_day).dt.days // 7\n",
    "data_weeks['week_number']"
   ],
   "metadata": {
    "collapsed": false
   }
  },
  {
   "cell_type": "markdown",
   "source": [
    "Статистический ряд"
   ],
   "metadata": {
    "collapsed": false
   }
  },
  {
   "cell_type": "code",
   "execution_count": 22,
   "outputs": [
    {
     "data": {
      "text/plain": "week_number\n0     156.154762\n1     157.541667\n2     126.553571\n3     127.029762\n4     117.678571\n5     111.708333\n6     108.273810\n7     107.398810\n8     106.690476\n9     105.166667\n10    111.476190\n11    110.017857\n12    103.517857\ndtype: float64"
     },
     "execution_count": 22,
     "metadata": {},
     "output_type": "execute_result"
    }
   ],
   "source": [
    "data_weeks_grouped_values = data_weeks.groupby(['week_number']).size() / (24 * 7)\n",
    "data_weeks_grouped_values"
   ],
   "metadata": {
    "collapsed": false
   }
  },
  {
   "cell_type": "code",
   "execution_count": 23,
   "outputs": [
    {
     "name": "stdout",
     "output_type": "stream",
     "text": [
      "Выборочное среднее: 119.16987179487181\n",
      "Дисперсия: 334.293081629019\n"
     ]
    }
   ],
   "source": [
    "add_mean_var(data_weeks_grouped_values.mean(), data_weeks_grouped_values.var())"
   ],
   "metadata": {
    "collapsed": false
   }
  },
  {
   "cell_type": "markdown",
   "source": [
    "### 5. Воспользуйтесь всем датасетом. Постройте статистический ряд количества заявок в течение месяца за весь период наблюдения. Вычислите выборочные среднюю и дисперсию полученного статистического ряда. Единицы измерения полученных характеристик переведите в кол. заявок/час"
   ],
   "metadata": {
    "collapsed": false
   }
  },
  {
   "cell_type": "markdown",
   "source": [
    "Определим количество заявок в каждый месяц"
   ],
   "metadata": {
    "collapsed": false
   }
  },
  {
   "cell_type": "code",
   "execution_count": 24,
   "outputs": [
    {
     "data": {
      "text/plain": "year  month\n2020  4          9242\n      5         16845\n      6         50534\n      7         98463\n      8        142928\n      9        116192\n      10       104680\n      11        78164\n      12        83192\n2021  1        100394\n      2         87513\n      3        109885\n      4        114425\n      5        141723\n      6        145243\n      7        152174\n      8        164693\n      9         75834\n      10            7\ndtype: int64"
     },
     "execution_count": 24,
     "metadata": {},
     "output_type": "execute_result"
    }
   ],
   "source": [
    "data_months_counts = data.groupby(['year', 'month']).size()\n",
    "data_months_counts"
   ],
   "metadata": {
    "collapsed": false
   }
  },
  {
   "cell_type": "markdown",
   "source": [
    "Определим количество дней, представленных в данных, для каждого месяца"
   ],
   "metadata": {
    "collapsed": false
   }
  },
  {
   "cell_type": "code",
   "execution_count": 25,
   "outputs": [
    {
     "data": {
      "text/plain": "year  month\n2020  4        29\n      5        31\n      6        30\n      7        31\n      8        31\n      9        30\n      10       31\n      11       30\n      12       31\n2021  1        31\n      2        28\n      3        31\n      4        30\n      5        31\n      6        30\n      7        31\n      8        31\n      9        20\n      10        1\nName: day, dtype: int64"
     },
     "execution_count": 25,
     "metadata": {},
     "output_type": "execute_result"
    }
   ],
   "source": [
    "data_months_day_count = data.groupby(['year', 'month'])['day'].nunique()\n",
    "data_months_day_count"
   ],
   "metadata": {
    "collapsed": false
   }
  },
  {
   "cell_type": "markdown",
   "source": [
    "Для каждого месяца определим среднее количество заявок в день. Это нужно, так как разные месяцы содержат разное число дней"
   ],
   "metadata": {
    "collapsed": false
   }
  },
  {
   "cell_type": "code",
   "execution_count": 26,
   "outputs": [
    {
     "data": {
      "text/plain": "year  month\n2020  4         318.689655\n      5         543.387097\n      6        1684.466667\n      7        3176.225806\n      8        4610.580645\n      9        3873.066667\n      10       3376.774194\n      11       2605.466667\n      12       2683.612903\n2021  1        3238.516129\n      2        3125.464286\n      3        3544.677419\n      4        3814.166667\n      5        4571.709677\n      6        4841.433333\n      7        4908.838710\n      8        5312.677419\n      9        3791.700000\n      10          7.000000\ndtype: float64"
     },
     "execution_count": 26,
     "metadata": {},
     "output_type": "execute_result"
    }
   ],
   "source": [
    "data_months_per_day = data_months_counts / data_months_day_count\n",
    "data_months_per_day"
   ],
   "metadata": {
    "collapsed": false
   }
  },
  {
   "cell_type": "markdown",
   "source": [
    "Статистический ряд"
   ],
   "metadata": {
    "collapsed": false
   }
  },
  {
   "cell_type": "code",
   "execution_count": 27,
   "outputs": [
    {
     "data": {
      "text/plain": "year  month\n2020  4         13.278736\n      5         22.641129\n      6         70.186111\n      7        132.342742\n      8        192.107527\n      9        161.377778\n      10       140.698925\n      11       108.561111\n      12       111.817204\n2021  1        134.938172\n      2        130.227679\n      3        147.694892\n      4        158.923611\n      5        190.487903\n      6        201.726389\n      7        204.534946\n      8        221.361559\n      9        157.987500\n      10         0.291667\ndtype: float64"
     },
     "execution_count": 27,
     "metadata": {},
     "output_type": "execute_result"
    }
   ],
   "source": [
    "data_months = data_months_per_day / 24\n",
    "data_months"
   ],
   "metadata": {
    "collapsed": false
   }
  },
  {
   "cell_type": "code",
   "execution_count": 28,
   "outputs": [
    {
     "name": "stdout",
     "output_type": "stream",
     "text": [
      "Выборочное среднее: 131.64134636159363\n",
      "Дисперсия: 4217.551597024211\n"
     ]
    }
   ],
   "source": [
    "add_mean_var(data_months.mean(), data_months.var())"
   ],
   "metadata": {
    "collapsed": false
   }
  },
  {
   "cell_type": "markdown",
   "source": [
    "### 6. Выберите среднюю интенсивность, соответствующую минимальной дисперсии."
   ],
   "metadata": {
    "collapsed": false
   }
  },
  {
   "cell_type": "code",
   "execution_count": 29,
   "outputs": [
    {
     "data": {
      "text/plain": "(108.56111111111113, 91.98179783950617)"
     },
     "execution_count": 29,
     "metadata": {},
     "output_type": "execute_result"
    }
   ],
   "source": [
    "best_mean, best_variance"
   ],
   "metadata": {
    "collapsed": false
   }
  },
  {
   "cell_type": "code",
   "execution_count": 30,
   "outputs": [],
   "source": [
    "eps = 1e-5"
   ],
   "metadata": {
    "collapsed": false
   }
  },
  {
   "cell_type": "code",
   "execution_count": 31,
   "outputs": [],
   "source": [
    "queues_count = 8  # n\n",
    "arrival_rate = best_mean / 3600  # λ, количество заявок в секунду\n",
    "max_wait_time = 30  # τ\n",
    "service_time = 2.3  # t, 1/μ\n",
    "\n",
    "load_intensity = arrival_rate * service_time  # ρ, λ/μ = λ*t"
   ],
   "metadata": {
    "collapsed": false
   }
  },
  {
   "cell_type": "code",
   "execution_count": 32,
   "outputs": [],
   "source": [
    "import math\n",
    "\n",
    "a = queues_count / load_intensity\n",
    "b = arrival_rate * max_wait_time\n",
    "c = math.e ** b * (1 - a)"
   ],
   "metadata": {
    "collapsed": false
   }
  },
  {
   "cell_type": "code",
   "execution_count": 33,
   "outputs": [],
   "source": [
    "def range_closed(start, end):\n",
    "    return range(start, end + 1)\n",
    "\n",
    "\n",
    "def floats_equal(a, b):\n",
    "    return abs(a - b) < eps"
   ],
   "metadata": {
    "collapsed": false
   }
  },
  {
   "cell_type": "code",
   "execution_count": 34,
   "outputs": [],
   "source": [
    "B = 1 + b if floats_equal(load_intensity, queues_count) else (c - 1) / (1 - a)"
   ],
   "metadata": {
    "collapsed": false
   }
  },
  {
   "cell_type": "code",
   "execution_count": 35,
   "outputs": [],
   "source": [
    "from math import factorial\n",
    "from expression.collections import Seq\n",
    "\n",
    "p_0 = (Seq(range_closed(0, queues_count)).map(lambda k: load_intensity ** k / factorial(k)).sum()\n",
    "       + load_intensity ** queues_count / factorial(queues_count) * B) ** -1"
   ],
   "metadata": {
    "collapsed": false
   }
  },
  {
   "cell_type": "code",
   "execution_count": 36,
   "outputs": [],
   "source": [
    "p_refusal = load_intensity ** queues_count / math.factorial(queues_count) * c * p_0\n",
    "Q = 1 - p_refusal\n",
    "arrival_rate_eff = arrival_rate * Q\n",
    "arrival_rate_refusal = arrival_rate * p_refusal"
   ],
   "metadata": {
    "collapsed": false
   }
  },
  {
   "cell_type": "code",
   "execution_count": 37,
   "outputs": [],
   "source": [
    "D = (1 + b / 2) if floats_equal(load_intensity, queues_count) else a - c * (a + b * (a - 1)) / (b * (a - 1) ** 2)"
   ],
   "metadata": {
    "collapsed": false
   }
  },
  {
   "cell_type": "markdown",
   "source": [
    "Среднее время в секундах, которое заявка находится в очереди"
   ],
   "metadata": {
    "collapsed": false
   }
  },
  {
   "cell_type": "code",
   "execution_count": 38,
   "outputs": [
    {
     "data": {
      "text/plain": "4.482418215546051e-11"
     },
     "execution_count": 38,
     "metadata": {},
     "output_type": "execute_result"
    }
   ],
   "source": [
    "W_0 = max_wait_time * load_intensity ** queues_count / factorial(queues_count) * D * p_0\n",
    "W_0"
   ],
   "metadata": {
    "collapsed": false
   }
  },
  {
   "cell_type": "code",
   "execution_count": 39,
   "outputs": [
    {
     "data": {
      "text/plain": "78164.00000000001"
     },
     "execution_count": 39,
     "metadata": {},
     "output_type": "execute_result"
    }
   ],
   "source": [
    "queries_month = best_mean * 24 * 30\n",
    "queries_month"
   ],
   "metadata": {
    "collapsed": false
   }
  },
  {
   "cell_type": "markdown",
   "source": [
    "Процент необработанных заявок"
   ],
   "metadata": {
    "collapsed": false
   }
  },
  {
   "cell_type": "code",
   "execution_count": 45,
   "outputs": [
    {
     "name": "stdout",
     "output_type": "stream",
     "text": [
      "-2.7369422249926168e-05 %\n"
     ]
    }
   ],
   "source": [
    "queries_month_refused = queries_month * p_refusal\n",
    "print(queries_month_refused * 100, '%')"
   ],
   "metadata": {
    "collapsed": false
   }
  },
  {
   "cell_type": "markdown",
   "source": [
    "Средняя сумма от штрафов за месяц"
   ],
   "metadata": {
    "collapsed": false
   }
  },
  {
   "cell_type": "code",
   "execution_count": 46,
   "outputs": [
    {
     "name": "stdout",
     "output_type": "stream",
     "text": [
      "-2.736942224992617e-07 * x\n"
     ]
    }
   ],
   "source": [
    "print(queries_month_refused, '* x')"
   ],
   "metadata": {
    "collapsed": false
   }
  }
 ],
 "metadata": {
  "kernelspec": {
   "display_name": "Python 3",
   "language": "python",
   "name": "python3"
  },
  "language_info": {
   "codemirror_mode": {
    "name": "ipython",
    "version": 2
   },
   "file_extension": ".py",
   "mimetype": "text/x-python",
   "name": "python",
   "nbconvert_exporter": "python",
   "pygments_lexer": "ipython2",
   "version": "2.7.6"
  }
 },
 "nbformat": 4,
 "nbformat_minor": 0
}
